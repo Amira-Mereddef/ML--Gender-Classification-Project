{
 "cells": [
  {
   "cell_type": "code",
   "execution_count": 1,
   "id": "f3d783f8",
   "metadata": {
    "_cell_guid": "b1076dfc-b9ad-4769-8c92-a6c4dae69d19",
    "_uuid": "8f2839f25d086af736a60e9eeb907d3b93b6e0e5",
    "execution": {
     "iopub.execute_input": "2025-07-07T18:36:55.523460Z",
     "iopub.status.busy": "2025-07-07T18:36:55.523143Z",
     "iopub.status.idle": "2025-07-07T18:36:57.684621Z",
     "shell.execute_reply": "2025-07-07T18:36:57.683499Z"
    },
    "papermill": {
     "duration": 2.170596,
     "end_time": "2025-07-07T18:36:57.686673",
     "exception": false,
     "start_time": "2025-07-07T18:36:55.516077",
     "status": "completed"
    },
    "tags": []
   },
   "outputs": [
    {
     "name": "stdout",
     "output_type": "stream",
     "text": [
      "/kaggle/input/gender-classification-dataset/gender_classification_v7.csv\n"
     ]
    }
   ],
   "source": [
    "import numpy as np # linear algebra\n",
    "import pandas as pd # data processing, CSV file I/O (e.g. pd.read_csv)\n",
    "import os\n",
    "for dirname, _, filenames in os.walk('/kaggle/input'):\n",
    "    for filename in filenames:\n",
    "        print(os.path.join(dirname, filename))"
   ]
  },
  {
   "cell_type": "markdown",
   "id": "0433e6fd",
   "metadata": {
    "papermill": {
     "duration": 0.005722,
     "end_time": "2025-07-07T18:36:57.697926",
     "exception": false,
     "start_time": "2025-07-07T18:36:57.692204",
     "status": "completed"
    },
    "tags": []
   },
   "source": [
    "# Introduction\n",
    "In this notebook, I explore a classification problem using several supervised machine learning models.\n",
    "The goal is to predict the gender of individuals based on facial features such as nose shape, lip thickness, and forehead dimensions...\n",
    "\n",
    "After performing data cleaning and preprocessing, I applied the following models:\n",
    "\n",
    "- Random Forest Classifier\n",
    "\n",
    "- K-Nearest Neighbors (KNN)\n",
    "\n",
    "For each model, I include a short definition, training process, accuracy results, and evaluation using metrics such as accuracy.\n"
   ]
  },
  {
   "cell_type": "markdown",
   "id": "1d4c79eb",
   "metadata": {
    "papermill": {
     "duration": 0.004991,
     "end_time": "2025-07-07T18:36:57.708501",
     "exception": false,
     "start_time": "2025-07-07T18:36:57.703510",
     "status": "completed"
    },
    "tags": []
   },
   "source": [
    "# 1.Importing Libraries & Downloading Data "
   ]
  },
  {
   "cell_type": "code",
   "execution_count": 2,
   "id": "dc8cda87",
   "metadata": {
    "execution": {
     "iopub.execute_input": "2025-07-07T18:36:57.720224Z",
     "iopub.status.busy": "2025-07-07T18:36:57.719703Z",
     "iopub.status.idle": "2025-07-07T18:36:59.881895Z",
     "shell.execute_reply": "2025-07-07T18:36:59.880925Z"
    },
    "papermill": {
     "duration": 2.170416,
     "end_time": "2025-07-07T18:36:59.883846",
     "exception": false,
     "start_time": "2025-07-07T18:36:57.713430",
     "status": "completed"
    },
    "tags": []
   },
   "outputs": [],
   "source": [
    "import pandas as pd \n",
    "from sklearn.preprocessing import StandardScaler\n",
    "from sklearn.model_selection import train_test_split\n",
    "from sklearn.ensemble import RandomForestClassifier\n",
    "from sklearn.metrics import accuracy_score\n",
    "from sklearn.neighbors import KNeighborsClassifier\n"
   ]
  },
  {
   "cell_type": "code",
   "execution_count": 3,
   "id": "e059f921",
   "metadata": {
    "execution": {
     "iopub.execute_input": "2025-07-07T18:36:59.895806Z",
     "iopub.status.busy": "2025-07-07T18:36:59.895211Z",
     "iopub.status.idle": "2025-07-07T18:36:59.928277Z",
     "shell.execute_reply": "2025-07-07T18:36:59.927357Z"
    },
    "papermill": {
     "duration": 0.041189,
     "end_time": "2025-07-07T18:36:59.930186",
     "exception": false,
     "start_time": "2025-07-07T18:36:59.888997",
     "status": "completed"
    },
    "tags": []
   },
   "outputs": [],
   "source": [
    "gender_df = pd.read_csv('/kaggle/input/gender-classification-dataset/gender_classification_v7.csv')\n"
   ]
  },
  {
   "cell_type": "markdown",
   "id": "cae0d331",
   "metadata": {
    "papermill": {
     "duration": 0.004887,
     "end_time": "2025-07-07T18:36:59.940678",
     "exception": false,
     "start_time": "2025-07-07T18:36:59.935791",
     "status": "completed"
    },
    "tags": []
   },
   "source": [
    "# 2.EDA ( Exploratory Data Analysis) "
   ]
  },
  {
   "cell_type": "code",
   "execution_count": 4,
   "id": "e13d2c35",
   "metadata": {
    "execution": {
     "iopub.execute_input": "2025-07-07T18:36:59.951766Z",
     "iopub.status.busy": "2025-07-07T18:36:59.951355Z",
     "iopub.status.idle": "2025-07-07T18:36:59.979788Z",
     "shell.execute_reply": "2025-07-07T18:36:59.978833Z"
    },
    "papermill": {
     "duration": 0.036,
     "end_time": "2025-07-07T18:36:59.981474",
     "exception": false,
     "start_time": "2025-07-07T18:36:59.945474",
     "status": "completed"
    },
    "tags": []
   },
   "outputs": [
    {
     "data": {
      "text/html": [
       "<div>\n",
       "<style scoped>\n",
       "    .dataframe tbody tr th:only-of-type {\n",
       "        vertical-align: middle;\n",
       "    }\n",
       "\n",
       "    .dataframe tbody tr th {\n",
       "        vertical-align: top;\n",
       "    }\n",
       "\n",
       "    .dataframe thead th {\n",
       "        text-align: right;\n",
       "    }\n",
       "</style>\n",
       "<table border=\"1\" class=\"dataframe\">\n",
       "  <thead>\n",
       "    <tr style=\"text-align: right;\">\n",
       "      <th></th>\n",
       "      <th>long_hair</th>\n",
       "      <th>forehead_width_cm</th>\n",
       "      <th>forehead_height_cm</th>\n",
       "      <th>nose_wide</th>\n",
       "      <th>nose_long</th>\n",
       "      <th>lips_thin</th>\n",
       "      <th>distance_nose_to_lip_long</th>\n",
       "      <th>gender</th>\n",
       "    </tr>\n",
       "  </thead>\n",
       "  <tbody>\n",
       "    <tr>\n",
       "      <th>0</th>\n",
       "      <td>1</td>\n",
       "      <td>11.8</td>\n",
       "      <td>6.1</td>\n",
       "      <td>1</td>\n",
       "      <td>0</td>\n",
       "      <td>1</td>\n",
       "      <td>1</td>\n",
       "      <td>Male</td>\n",
       "    </tr>\n",
       "    <tr>\n",
       "      <th>1</th>\n",
       "      <td>0</td>\n",
       "      <td>14.0</td>\n",
       "      <td>5.4</td>\n",
       "      <td>0</td>\n",
       "      <td>0</td>\n",
       "      <td>1</td>\n",
       "      <td>0</td>\n",
       "      <td>Female</td>\n",
       "    </tr>\n",
       "    <tr>\n",
       "      <th>2</th>\n",
       "      <td>0</td>\n",
       "      <td>11.8</td>\n",
       "      <td>6.3</td>\n",
       "      <td>1</td>\n",
       "      <td>1</td>\n",
       "      <td>1</td>\n",
       "      <td>1</td>\n",
       "      <td>Male</td>\n",
       "    </tr>\n",
       "    <tr>\n",
       "      <th>3</th>\n",
       "      <td>0</td>\n",
       "      <td>14.4</td>\n",
       "      <td>6.1</td>\n",
       "      <td>0</td>\n",
       "      <td>1</td>\n",
       "      <td>1</td>\n",
       "      <td>1</td>\n",
       "      <td>Male</td>\n",
       "    </tr>\n",
       "    <tr>\n",
       "      <th>4</th>\n",
       "      <td>1</td>\n",
       "      <td>13.5</td>\n",
       "      <td>5.9</td>\n",
       "      <td>0</td>\n",
       "      <td>0</td>\n",
       "      <td>0</td>\n",
       "      <td>0</td>\n",
       "      <td>Female</td>\n",
       "    </tr>\n",
       "  </tbody>\n",
       "</table>\n",
       "</div>"
      ],
      "text/plain": [
       "   long_hair  forehead_width_cm  forehead_height_cm  nose_wide  nose_long  \\\n",
       "0          1               11.8                 6.1          1          0   \n",
       "1          0               14.0                 5.4          0          0   \n",
       "2          0               11.8                 6.3          1          1   \n",
       "3          0               14.4                 6.1          0          1   \n",
       "4          1               13.5                 5.9          0          0   \n",
       "\n",
       "   lips_thin  distance_nose_to_lip_long  gender  \n",
       "0          1                          1    Male  \n",
       "1          1                          0  Female  \n",
       "2          1                          1    Male  \n",
       "3          1                          1    Male  \n",
       "4          0                          0  Female  "
      ]
     },
     "execution_count": 4,
     "metadata": {},
     "output_type": "execute_result"
    }
   ],
   "source": [
    "gender_df.head()"
   ]
  },
  {
   "cell_type": "code",
   "execution_count": 5,
   "id": "4fda4b9e",
   "metadata": {
    "execution": {
     "iopub.execute_input": "2025-07-07T18:36:59.994465Z",
     "iopub.status.busy": "2025-07-07T18:36:59.994098Z",
     "iopub.status.idle": "2025-07-07T18:37:00.023079Z",
     "shell.execute_reply": "2025-07-07T18:37:00.021896Z"
    },
    "papermill": {
     "duration": 0.036877,
     "end_time": "2025-07-07T18:37:00.024656",
     "exception": false,
     "start_time": "2025-07-07T18:36:59.987779",
     "status": "completed"
    },
    "tags": []
   },
   "outputs": [
    {
     "name": "stdout",
     "output_type": "stream",
     "text": [
      "<class 'pandas.core.frame.DataFrame'>\n",
      "RangeIndex: 5001 entries, 0 to 5000\n",
      "Data columns (total 8 columns):\n",
      " #   Column                     Non-Null Count  Dtype  \n",
      "---  ------                     --------------  -----  \n",
      " 0   long_hair                  5001 non-null   int64  \n",
      " 1   forehead_width_cm          5001 non-null   float64\n",
      " 2   forehead_height_cm         5001 non-null   float64\n",
      " 3   nose_wide                  5001 non-null   int64  \n",
      " 4   nose_long                  5001 non-null   int64  \n",
      " 5   lips_thin                  5001 non-null   int64  \n",
      " 6   distance_nose_to_lip_long  5001 non-null   int64  \n",
      " 7   gender                     5001 non-null   object \n",
      "dtypes: float64(2), int64(5), object(1)\n",
      "memory usage: 312.7+ KB\n"
     ]
    }
   ],
   "source": [
    "gender_df.info()"
   ]
  },
  {
   "cell_type": "markdown",
   "id": "acc4a819",
   "metadata": {
    "papermill": {
     "duration": 0.004741,
     "end_time": "2025-07-07T18:37:00.034566",
     "exception": false,
     "start_time": "2025-07-07T18:37:00.029825",
     "status": "completed"
    },
    "tags": []
   },
   "source": [
    "**- We notice that we don't have any null values so we don't need to handle missing values. **"
   ]
  },
  {
   "cell_type": "code",
   "execution_count": 6,
   "id": "d8b44f20",
   "metadata": {
    "execution": {
     "iopub.execute_input": "2025-07-07T18:37:00.046385Z",
     "iopub.status.busy": "2025-07-07T18:37:00.046005Z",
     "iopub.status.idle": "2025-07-07T18:37:00.079002Z",
     "shell.execute_reply": "2025-07-07T18:37:00.077807Z"
    },
    "papermill": {
     "duration": 0.041001,
     "end_time": "2025-07-07T18:37:00.080917",
     "exception": false,
     "start_time": "2025-07-07T18:37:00.039916",
     "status": "completed"
    },
    "tags": []
   },
   "outputs": [
    {
     "data": {
      "text/html": [
       "<div>\n",
       "<style scoped>\n",
       "    .dataframe tbody tr th:only-of-type {\n",
       "        vertical-align: middle;\n",
       "    }\n",
       "\n",
       "    .dataframe tbody tr th {\n",
       "        vertical-align: top;\n",
       "    }\n",
       "\n",
       "    .dataframe thead th {\n",
       "        text-align: right;\n",
       "    }\n",
       "</style>\n",
       "<table border=\"1\" class=\"dataframe\">\n",
       "  <thead>\n",
       "    <tr style=\"text-align: right;\">\n",
       "      <th></th>\n",
       "      <th>long_hair</th>\n",
       "      <th>forehead_width_cm</th>\n",
       "      <th>forehead_height_cm</th>\n",
       "      <th>nose_wide</th>\n",
       "      <th>nose_long</th>\n",
       "      <th>lips_thin</th>\n",
       "      <th>distance_nose_to_lip_long</th>\n",
       "    </tr>\n",
       "  </thead>\n",
       "  <tbody>\n",
       "    <tr>\n",
       "      <th>count</th>\n",
       "      <td>5001.000000</td>\n",
       "      <td>5001.000000</td>\n",
       "      <td>5001.000000</td>\n",
       "      <td>5001.000000</td>\n",
       "      <td>5001.000000</td>\n",
       "      <td>5001.000000</td>\n",
       "      <td>5001.000000</td>\n",
       "    </tr>\n",
       "    <tr>\n",
       "      <th>mean</th>\n",
       "      <td>0.869626</td>\n",
       "      <td>13.181484</td>\n",
       "      <td>5.946311</td>\n",
       "      <td>0.493901</td>\n",
       "      <td>0.507898</td>\n",
       "      <td>0.493101</td>\n",
       "      <td>0.498900</td>\n",
       "    </tr>\n",
       "    <tr>\n",
       "      <th>std</th>\n",
       "      <td>0.336748</td>\n",
       "      <td>1.107128</td>\n",
       "      <td>0.541268</td>\n",
       "      <td>0.500013</td>\n",
       "      <td>0.499988</td>\n",
       "      <td>0.500002</td>\n",
       "      <td>0.500049</td>\n",
       "    </tr>\n",
       "    <tr>\n",
       "      <th>min</th>\n",
       "      <td>0.000000</td>\n",
       "      <td>11.400000</td>\n",
       "      <td>5.100000</td>\n",
       "      <td>0.000000</td>\n",
       "      <td>0.000000</td>\n",
       "      <td>0.000000</td>\n",
       "      <td>0.000000</td>\n",
       "    </tr>\n",
       "    <tr>\n",
       "      <th>25%</th>\n",
       "      <td>1.000000</td>\n",
       "      <td>12.200000</td>\n",
       "      <td>5.500000</td>\n",
       "      <td>0.000000</td>\n",
       "      <td>0.000000</td>\n",
       "      <td>0.000000</td>\n",
       "      <td>0.000000</td>\n",
       "    </tr>\n",
       "    <tr>\n",
       "      <th>50%</th>\n",
       "      <td>1.000000</td>\n",
       "      <td>13.100000</td>\n",
       "      <td>5.900000</td>\n",
       "      <td>0.000000</td>\n",
       "      <td>1.000000</td>\n",
       "      <td>0.000000</td>\n",
       "      <td>0.000000</td>\n",
       "    </tr>\n",
       "    <tr>\n",
       "      <th>75%</th>\n",
       "      <td>1.000000</td>\n",
       "      <td>14.000000</td>\n",
       "      <td>6.400000</td>\n",
       "      <td>1.000000</td>\n",
       "      <td>1.000000</td>\n",
       "      <td>1.000000</td>\n",
       "      <td>1.000000</td>\n",
       "    </tr>\n",
       "    <tr>\n",
       "      <th>max</th>\n",
       "      <td>1.000000</td>\n",
       "      <td>15.500000</td>\n",
       "      <td>7.100000</td>\n",
       "      <td>1.000000</td>\n",
       "      <td>1.000000</td>\n",
       "      <td>1.000000</td>\n",
       "      <td>1.000000</td>\n",
       "    </tr>\n",
       "  </tbody>\n",
       "</table>\n",
       "</div>"
      ],
      "text/plain": [
       "         long_hair  forehead_width_cm  forehead_height_cm    nose_wide  \\\n",
       "count  5001.000000        5001.000000         5001.000000  5001.000000   \n",
       "mean      0.869626          13.181484            5.946311     0.493901   \n",
       "std       0.336748           1.107128            0.541268     0.500013   \n",
       "min       0.000000          11.400000            5.100000     0.000000   \n",
       "25%       1.000000          12.200000            5.500000     0.000000   \n",
       "50%       1.000000          13.100000            5.900000     0.000000   \n",
       "75%       1.000000          14.000000            6.400000     1.000000   \n",
       "max       1.000000          15.500000            7.100000     1.000000   \n",
       "\n",
       "         nose_long    lips_thin  distance_nose_to_lip_long  \n",
       "count  5001.000000  5001.000000                5001.000000  \n",
       "mean      0.507898     0.493101                   0.498900  \n",
       "std       0.499988     0.500002                   0.500049  \n",
       "min       0.000000     0.000000                   0.000000  \n",
       "25%       0.000000     0.000000                   0.000000  \n",
       "50%       1.000000     0.000000                   0.000000  \n",
       "75%       1.000000     1.000000                   1.000000  \n",
       "max       1.000000     1.000000                   1.000000  "
      ]
     },
     "execution_count": 6,
     "metadata": {},
     "output_type": "execute_result"
    }
   ],
   "source": [
    "gender_df.describe()"
   ]
  },
  {
   "cell_type": "code",
   "execution_count": 7,
   "id": "9a076838",
   "metadata": {
    "execution": {
     "iopub.execute_input": "2025-07-07T18:37:00.093690Z",
     "iopub.status.busy": "2025-07-07T18:37:00.092565Z",
     "iopub.status.idle": "2025-07-07T18:37:00.100966Z",
     "shell.execute_reply": "2025-07-07T18:37:00.099949Z"
    },
    "papermill": {
     "duration": 0.016508,
     "end_time": "2025-07-07T18:37:00.102612",
     "exception": false,
     "start_time": "2025-07-07T18:37:00.086104",
     "status": "completed"
    },
    "tags": []
   },
   "outputs": [
    {
     "data": {
      "text/plain": [
       "long_hair                      int64\n",
       "forehead_width_cm            float64\n",
       "forehead_height_cm           float64\n",
       "nose_wide                      int64\n",
       "nose_long                      int64\n",
       "lips_thin                      int64\n",
       "distance_nose_to_lip_long      int64\n",
       "gender                        object\n",
       "dtype: object"
      ]
     },
     "execution_count": 7,
     "metadata": {},
     "output_type": "execute_result"
    }
   ],
   "source": [
    "gender_df.dtypes"
   ]
  },
  {
   "cell_type": "markdown",
   "id": "e74cd77f",
   "metadata": {
    "papermill": {
     "duration": 0.004746,
     "end_time": "2025-07-07T18:37:00.112839",
     "exception": false,
     "start_time": "2025-07-07T18:37:00.108093",
     "status": "completed"
    },
    "tags": []
   },
   "source": [
    "- The target column \"gender\" has data type \"object\" so we need to encode it."
   ]
  },
  {
   "cell_type": "markdown",
   "id": "0e478921",
   "metadata": {
    "papermill": {
     "duration": 0.004622,
     "end_time": "2025-07-07T18:37:00.122410",
     "exception": false,
     "start_time": "2025-07-07T18:37:00.117788",
     "status": "completed"
    },
    "tags": []
   },
   "source": [
    "# 3. Preprocessing"
   ]
  },
  {
   "cell_type": "markdown",
   "id": "a8cf9486",
   "metadata": {
    "papermill": {
     "duration": 0.004619,
     "end_time": "2025-07-07T18:37:00.131999",
     "exception": false,
     "start_time": "2025-07-07T18:37:00.127380",
     "status": "completed"
    },
    "tags": []
   },
   "source": [
    "- Encoding the target column to :\n",
    "  0 : Male \n",
    "  1 : Female"
   ]
  },
  {
   "cell_type": "code",
   "execution_count": 8,
   "id": "4e9aad6b",
   "metadata": {
    "execution": {
     "iopub.execute_input": "2025-07-07T18:37:00.143278Z",
     "iopub.status.busy": "2025-07-07T18:37:00.142953Z",
     "iopub.status.idle": "2025-07-07T18:37:00.149447Z",
     "shell.execute_reply": "2025-07-07T18:37:00.148296Z"
    },
    "papermill": {
     "duration": 0.014444,
     "end_time": "2025-07-07T18:37:00.151302",
     "exception": false,
     "start_time": "2025-07-07T18:37:00.136858",
     "status": "completed"
    },
    "tags": []
   },
   "outputs": [
    {
     "name": "stdout",
     "output_type": "stream",
     "text": [
      "['Male' 'Female']\n"
     ]
    }
   ],
   "source": [
    "print(gender_df['gender'].unique())\n"
   ]
  },
  {
   "cell_type": "code",
   "execution_count": 9,
   "id": "911f751f",
   "metadata": {
    "execution": {
     "iopub.execute_input": "2025-07-07T18:37:00.163614Z",
     "iopub.status.busy": "2025-07-07T18:37:00.163155Z",
     "iopub.status.idle": "2025-07-07T18:37:00.169923Z",
     "shell.execute_reply": "2025-07-07T18:37:00.168883Z"
    },
    "papermill": {
     "duration": 0.015032,
     "end_time": "2025-07-07T18:37:00.171715",
     "exception": false,
     "start_time": "2025-07-07T18:37:00.156683",
     "status": "completed"
    },
    "tags": []
   },
   "outputs": [],
   "source": [
    "gender_df['gender'] = gender_df['gender'].map({'Male' : 0 , 'Female' : 1})"
   ]
  },
  {
   "cell_type": "code",
   "execution_count": 10,
   "id": "f66692ae",
   "metadata": {
    "execution": {
     "iopub.execute_input": "2025-07-07T18:37:00.186426Z",
     "iopub.status.busy": "2025-07-07T18:37:00.186018Z",
     "iopub.status.idle": "2025-07-07T18:37:00.193682Z",
     "shell.execute_reply": "2025-07-07T18:37:00.192492Z"
    },
    "papermill": {
     "duration": 0.017637,
     "end_time": "2025-07-07T18:37:00.195479",
     "exception": false,
     "start_time": "2025-07-07T18:37:00.177842",
     "status": "completed"
    },
    "tags": []
   },
   "outputs": [
    {
     "data": {
      "text/plain": [
       "dtype('int64')"
      ]
     },
     "execution_count": 10,
     "metadata": {},
     "output_type": "execute_result"
    }
   ],
   "source": [
    "gender_df['gender'].dtype\n"
   ]
  },
  {
   "cell_type": "markdown",
   "id": "3da8aba1",
   "metadata": {
    "papermill": {
     "duration": 0.004973,
     "end_time": "2025-07-07T18:37:00.206166",
     "exception": false,
     "start_time": "2025-07-07T18:37:00.201193",
     "status": "completed"
    },
    "tags": []
   },
   "source": [
    "- Feature Selection: "
   ]
  },
  {
   "cell_type": "code",
   "execution_count": 11,
   "id": "41b3610d",
   "metadata": {
    "execution": {
     "iopub.execute_input": "2025-07-07T18:37:00.218010Z",
     "iopub.status.busy": "2025-07-07T18:37:00.217697Z",
     "iopub.status.idle": "2025-07-07T18:37:00.236722Z",
     "shell.execute_reply": "2025-07-07T18:37:00.235493Z"
    },
    "papermill": {
     "duration": 0.027204,
     "end_time": "2025-07-07T18:37:00.238589",
     "exception": false,
     "start_time": "2025-07-07T18:37:00.211385",
     "status": "completed"
    },
    "tags": []
   },
   "outputs": [
    {
     "data": {
      "text/html": [
       "<div>\n",
       "<style scoped>\n",
       "    .dataframe tbody tr th:only-of-type {\n",
       "        vertical-align: middle;\n",
       "    }\n",
       "\n",
       "    .dataframe tbody tr th {\n",
       "        vertical-align: top;\n",
       "    }\n",
       "\n",
       "    .dataframe thead th {\n",
       "        text-align: right;\n",
       "    }\n",
       "</style>\n",
       "<table border=\"1\" class=\"dataframe\">\n",
       "  <thead>\n",
       "    <tr style=\"text-align: right;\">\n",
       "      <th></th>\n",
       "      <th>long_hair</th>\n",
       "      <th>forehead_width_cm</th>\n",
       "      <th>forehead_height_cm</th>\n",
       "      <th>nose_wide</th>\n",
       "      <th>nose_long</th>\n",
       "      <th>lips_thin</th>\n",
       "      <th>distance_nose_to_lip_long</th>\n",
       "      <th>gender</th>\n",
       "    </tr>\n",
       "  </thead>\n",
       "  <tbody>\n",
       "    <tr>\n",
       "      <th>long_hair</th>\n",
       "      <td>1.000000</td>\n",
       "      <td>-0.006530</td>\n",
       "      <td>-0.017233</td>\n",
       "      <td>0.001216</td>\n",
       "      <td>0.014432</td>\n",
       "      <td>0.011287</td>\n",
       "      <td>-0.025794</td>\n",
       "      <td>0.010767</td>\n",
       "    </tr>\n",
       "    <tr>\n",
       "      <th>forehead_width_cm</th>\n",
       "      <td>-0.006530</td>\n",
       "      <td>1.000000</td>\n",
       "      <td>0.088596</td>\n",
       "      <td>0.251648</td>\n",
       "      <td>0.257368</td>\n",
       "      <td>0.258564</td>\n",
       "      <td>0.251328</td>\n",
       "      <td>-0.334125</td>\n",
       "    </tr>\n",
       "    <tr>\n",
       "      <th>forehead_height_cm</th>\n",
       "      <td>-0.017233</td>\n",
       "      <td>0.088596</td>\n",
       "      <td>1.000000</td>\n",
       "      <td>0.211655</td>\n",
       "      <td>0.194120</td>\n",
       "      <td>0.205441</td>\n",
       "      <td>0.215292</td>\n",
       "      <td>-0.277190</td>\n",
       "    </tr>\n",
       "    <tr>\n",
       "      <th>nose_wide</th>\n",
       "      <td>0.001216</td>\n",
       "      <td>0.251648</td>\n",
       "      <td>0.211655</td>\n",
       "      <td>1.000000</td>\n",
       "      <td>0.565192</td>\n",
       "      <td>0.557615</td>\n",
       "      <td>0.569303</td>\n",
       "      <td>-0.758502</td>\n",
       "    </tr>\n",
       "    <tr>\n",
       "      <th>nose_long</th>\n",
       "      <td>0.014432</td>\n",
       "      <td>0.257368</td>\n",
       "      <td>0.194120</td>\n",
       "      <td>0.565192</td>\n",
       "      <td>1.000000</td>\n",
       "      <td>0.561229</td>\n",
       "      <td>0.559794</td>\n",
       "      <td>-0.744147</td>\n",
       "    </tr>\n",
       "    <tr>\n",
       "      <th>lips_thin</th>\n",
       "      <td>0.011287</td>\n",
       "      <td>0.258564</td>\n",
       "      <td>0.205441</td>\n",
       "      <td>0.557615</td>\n",
       "      <td>0.561229</td>\n",
       "      <td>1.000000</td>\n",
       "      <td>0.565312</td>\n",
       "      <td>-0.743319</td>\n",
       "    </tr>\n",
       "    <tr>\n",
       "      <th>distance_nose_to_lip_long</th>\n",
       "      <td>-0.025794</td>\n",
       "      <td>0.251328</td>\n",
       "      <td>0.215292</td>\n",
       "      <td>0.569303</td>\n",
       "      <td>0.559794</td>\n",
       "      <td>0.565312</td>\n",
       "      <td>1.000000</td>\n",
       "      <td>-0.754850</td>\n",
       "    </tr>\n",
       "    <tr>\n",
       "      <th>gender</th>\n",
       "      <td>0.010767</td>\n",
       "      <td>-0.334125</td>\n",
       "      <td>-0.277190</td>\n",
       "      <td>-0.758502</td>\n",
       "      <td>-0.744147</td>\n",
       "      <td>-0.743319</td>\n",
       "      <td>-0.754850</td>\n",
       "      <td>1.000000</td>\n",
       "    </tr>\n",
       "  </tbody>\n",
       "</table>\n",
       "</div>"
      ],
      "text/plain": [
       "                           long_hair  forehead_width_cm  forehead_height_cm  \\\n",
       "long_hair                   1.000000          -0.006530           -0.017233   \n",
       "forehead_width_cm          -0.006530           1.000000            0.088596   \n",
       "forehead_height_cm         -0.017233           0.088596            1.000000   \n",
       "nose_wide                   0.001216           0.251648            0.211655   \n",
       "nose_long                   0.014432           0.257368            0.194120   \n",
       "lips_thin                   0.011287           0.258564            0.205441   \n",
       "distance_nose_to_lip_long  -0.025794           0.251328            0.215292   \n",
       "gender                      0.010767          -0.334125           -0.277190   \n",
       "\n",
       "                           nose_wide  nose_long  lips_thin  \\\n",
       "long_hair                   0.001216   0.014432   0.011287   \n",
       "forehead_width_cm           0.251648   0.257368   0.258564   \n",
       "forehead_height_cm          0.211655   0.194120   0.205441   \n",
       "nose_wide                   1.000000   0.565192   0.557615   \n",
       "nose_long                   0.565192   1.000000   0.561229   \n",
       "lips_thin                   0.557615   0.561229   1.000000   \n",
       "distance_nose_to_lip_long   0.569303   0.559794   0.565312   \n",
       "gender                     -0.758502  -0.744147  -0.743319   \n",
       "\n",
       "                           distance_nose_to_lip_long    gender  \n",
       "long_hair                                  -0.025794  0.010767  \n",
       "forehead_width_cm                           0.251328 -0.334125  \n",
       "forehead_height_cm                          0.215292 -0.277190  \n",
       "nose_wide                                   0.569303 -0.758502  \n",
       "nose_long                                   0.559794 -0.744147  \n",
       "lips_thin                                   0.565312 -0.743319  \n",
       "distance_nose_to_lip_long                   1.000000 -0.754850  \n",
       "gender                                     -0.754850  1.000000  "
      ]
     },
     "execution_count": 11,
     "metadata": {},
     "output_type": "execute_result"
    }
   ],
   "source": [
    "gender_df.corr()"
   ]
  },
  {
   "cell_type": "markdown",
   "id": "43b274e2",
   "metadata": {
    "papermill": {
     "duration": 0.005357,
     "end_time": "2025-07-07T18:37:00.249516",
     "exception": false,
     "start_time": "2025-07-07T18:37:00.244159",
     "status": "completed"
    },
    "tags": []
   },
   "source": [
    "**- Train Test Split:**"
   ]
  },
  {
   "cell_type": "code",
   "execution_count": 12,
   "id": "8b592c20",
   "metadata": {
    "execution": {
     "iopub.execute_input": "2025-07-07T18:37:00.262373Z",
     "iopub.status.busy": "2025-07-07T18:37:00.262056Z",
     "iopub.status.idle": "2025-07-07T18:37:00.274702Z",
     "shell.execute_reply": "2025-07-07T18:37:00.273439Z"
    },
    "papermill": {
     "duration": 0.02131,
     "end_time": "2025-07-07T18:37:00.276620",
     "exception": false,
     "start_time": "2025-07-07T18:37:00.255310",
     "status": "completed"
    },
    "tags": []
   },
   "outputs": [],
   "source": [
    "features = ['nose_wide', 'nose_long', 'lips_thin', \n",
    "            'distance_nose_to_lip_long', 'long_hair',\n",
    "            'forehead_width_cm', 'forehead_height_cm']\n",
    "\n",
    "X = gender_df[features]\n",
    "y = gender_df['gender']\n",
    "\n",
    "X_train , X_test , y_train , y_test =  train_test_split(X , y, test_size=0.2, random_state=42)"
   ]
  },
  {
   "cell_type": "markdown",
   "id": "96b79a33",
   "metadata": {
    "papermill": {
     "duration": 0.005792,
     "end_time": "2025-07-07T18:37:00.288124",
     "exception": false,
     "start_time": "2025-07-07T18:37:00.282332",
     "status": "completed"
    },
    "tags": []
   },
   "source": [
    "# 4- Modeling "
   ]
  },
  {
   "cell_type": "markdown",
   "id": "1a045e29",
   "metadata": {
    "papermill": {
     "duration": 0.005366,
     "end_time": "2025-07-07T18:37:00.298936",
     "exception": false,
     "start_time": "2025-07-07T18:37:00.293570",
     "status": "completed"
    },
    "tags": []
   },
   "source": [
    " # 4.1.Random Forest #\n",
    " Before understanding Random Forest, we start with a **Decision Tree**:\n",
    "a model that splits data into branches based on feature values, leading to a prediction at the leaves.\n",
    "\n",
    "**Random Forest** is an ensemble of many decision trees.\n",
    "Each tree votes, and the final prediction is based on the majority vote."
   ]
  },
  {
   "cell_type": "code",
   "execution_count": 13,
   "id": "b1c56c23",
   "metadata": {
    "execution": {
     "iopub.execute_input": "2025-07-07T18:37:00.311504Z",
     "iopub.status.busy": "2025-07-07T18:37:00.311090Z",
     "iopub.status.idle": "2025-07-07T18:37:00.602323Z",
     "shell.execute_reply": "2025-07-07T18:37:00.601313Z"
    },
    "papermill": {
     "duration": 0.299901,
     "end_time": "2025-07-07T18:37:00.604331",
     "exception": false,
     "start_time": "2025-07-07T18:37:00.304430",
     "status": "completed"
    },
    "tags": []
   },
   "outputs": [],
   "source": [
    "#1-Training: \n",
    "rfc = RandomForestClassifier(random_state = 42)\n",
    "# random_state ensures every time you run your code, you get the same result.\n",
    "rfc.fit(X_train, y_train)\n",
    "#2-Predicting: \n",
    "y_pred = rfc.predict(X_test)"
   ]
  },
  {
   "cell_type": "code",
   "execution_count": 14,
   "id": "a692c612",
   "metadata": {
    "execution": {
     "iopub.execute_input": "2025-07-07T18:37:00.616991Z",
     "iopub.status.busy": "2025-07-07T18:37:00.616597Z",
     "iopub.status.idle": "2025-07-07T18:37:00.625244Z",
     "shell.execute_reply": "2025-07-07T18:37:00.624084Z"
    },
    "papermill": {
     "duration": 0.017461,
     "end_time": "2025-07-07T18:37:00.627313",
     "exception": false,
     "start_time": "2025-07-07T18:37:00.609852",
     "status": "completed"
    },
    "tags": []
   },
   "outputs": [
    {
     "name": "stdout",
     "output_type": "stream",
     "text": [
      "Accuracy: 0.961038961038961\n"
     ]
    }
   ],
   "source": [
    "#3-Evaluation: \n",
    "print(\"Accuracy:\" , accuracy_score(y_test, y_pred))"
   ]
  },
  {
   "cell_type": "markdown",
   "id": "a4549ef7",
   "metadata": {
    "papermill": {
     "duration": 0.006061,
     "end_time": "2025-07-07T18:37:00.639763",
     "exception": false,
     "start_time": "2025-07-07T18:37:00.633702",
     "status": "completed"
    },
    "tags": []
   },
   "source": [
    "# 4.2.K-Nearest Neighbors (KNN)\n",
    "A simple model where we choose an odd number k, representing the **nearest neighbors**to the instance we want to predict.\n",
    "The model then takes a **vote** among those neighbors, and the majority class becomes the predicted label."
   ]
  },
  {
   "cell_type": "markdown",
   "id": "df308716",
   "metadata": {
    "papermill": {
     "duration": 0.00595,
     "end_time": "2025-07-07T18:37:00.651821",
     "exception": false,
     "start_time": "2025-07-07T18:37:00.645871",
     "status": "completed"
    },
    "tags": []
   },
   "source": [
    "**Scaling**: \n",
    "Since KNN is too sensitive to scaling, We will scale our data first"
   ]
  },
  {
   "cell_type": "code",
   "execution_count": 15,
   "id": "38c21db5",
   "metadata": {
    "execution": {
     "iopub.execute_input": "2025-07-07T18:37:00.666252Z",
     "iopub.status.busy": "2025-07-07T18:37:00.665834Z",
     "iopub.status.idle": "2025-07-07T18:37:00.688949Z",
     "shell.execute_reply": "2025-07-07T18:37:00.687906Z"
    },
    "papermill": {
     "duration": 0.032674,
     "end_time": "2025-07-07T18:37:00.690945",
     "exception": false,
     "start_time": "2025-07-07T18:37:00.658271",
     "status": "completed"
    },
    "tags": []
   },
   "outputs": [],
   "source": [
    "scaler = StandardScaler()\n",
    "X_train_scaled = scaler.fit_transform(X_train)\n",
    "X_test_scaled = scaler.transform(X_test)"
   ]
  },
  {
   "cell_type": "code",
   "execution_count": 16,
   "id": "8f50b04f",
   "metadata": {
    "execution": {
     "iopub.execute_input": "2025-07-07T18:37:00.703658Z",
     "iopub.status.busy": "2025-07-07T18:37:00.703286Z",
     "iopub.status.idle": "2025-07-07T18:37:00.772631Z",
     "shell.execute_reply": "2025-07-07T18:37:00.771614Z"
    },
    "papermill": {
     "duration": 0.077832,
     "end_time": "2025-07-07T18:37:00.774458",
     "exception": false,
     "start_time": "2025-07-07T18:37:00.696626",
     "status": "completed"
    },
    "tags": []
   },
   "outputs": [],
   "source": [
    "#1- training\n",
    "knn =  KNeighborsClassifier(n_neighbors=7) \n",
    "knn.fit(X_train_scaled, y_train)\n",
    "#2- Prediction \n",
    "y_pred = knn.predict(X_test_scaled)"
   ]
  },
  {
   "cell_type": "code",
   "execution_count": 17,
   "id": "f7f3333d",
   "metadata": {
    "execution": {
     "iopub.execute_input": "2025-07-07T18:37:00.787130Z",
     "iopub.status.busy": "2025-07-07T18:37:00.786798Z",
     "iopub.status.idle": "2025-07-07T18:37:00.794414Z",
     "shell.execute_reply": "2025-07-07T18:37:00.793185Z"
    },
    "papermill": {
     "duration": 0.016251,
     "end_time": "2025-07-07T18:37:00.796289",
     "exception": false,
     "start_time": "2025-07-07T18:37:00.780038",
     "status": "completed"
    },
    "tags": []
   },
   "outputs": [
    {
     "name": "stdout",
     "output_type": "stream",
     "text": [
      "Accuracy: 0.9630369630369631\n"
     ]
    }
   ],
   "source": [
    "#3-Evaluation\n",
    "accuracy = accuracy_score(y_test , y_pred)\n",
    "print(\"Accuracy:\" , accuracy)"
   ]
  }
 ],
 "metadata": {
  "kaggle": {
   "accelerator": "none",
   "dataSources": [
    {
     "datasetId": 908128,
     "sourceId": 1539868,
     "sourceType": "datasetVersion"
    }
   ],
   "dockerImageVersionId": 31040,
   "isGpuEnabled": false,
   "isInternetEnabled": false,
   "language": "python",
   "sourceType": "notebook"
  },
  "kernelspec": {
   "display_name": "Python 3",
   "language": "python",
   "name": "python3"
  },
  "language_info": {
   "codemirror_mode": {
    "name": "ipython",
    "version": 3
   },
   "file_extension": ".py",
   "mimetype": "text/x-python",
   "name": "python",
   "nbconvert_exporter": "python",
   "pygments_lexer": "ipython3",
   "version": "3.11.11"
  },
  "papermill": {
   "default_parameters": {},
   "duration": 11.460838,
   "end_time": "2025-07-07T18:37:01.522907",
   "environment_variables": {},
   "exception": null,
   "input_path": "__notebook__.ipynb",
   "output_path": "__notebook__.ipynb",
   "parameters": {},
   "start_time": "2025-07-07T18:36:50.062069",
   "version": "2.6.0"
  }
 },
 "nbformat": 4,
 "nbformat_minor": 5
}
